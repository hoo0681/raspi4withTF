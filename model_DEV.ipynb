{
  "nbformat": 4,
  "nbformat_minor": 0,
  "metadata": {
    "colab": {
      "name": "model_DEV.ipynb",
      "provenance": [],
      "machine_shape": "hm",
      "include_colab_link": true
    },
    "kernelspec": {
      "name": "python3",
      "display_name": "Python 3"
    }
  },
  "cells": [
    {
      "cell_type": "markdown",
      "metadata": {
        "id": "view-in-github",
        "colab_type": "text"
      },
      "source": [
        "<a href=\"https://colab.research.google.com/github/hoo0681/raspi4withTF/blob/master/model_DEV.ipynb\" target=\"_parent\"><img src=\"https://colab.research.google.com/assets/colab-badge.svg\" alt=\"Open In Colab\"/></a>"
      ]
    },
    {
      "cell_type": "markdown",
      "metadata": {
        "id": "gd2T1ymlD0Gi",
        "colab_type": "text"
      },
      "source": [
        "# 기본세팅"
      ]
    },
    {
      "cell_type": "code",
      "metadata": {
        "id": "Q7ZA6fMrY16i",
        "colab_type": "code",
        "outputId": "0a61db22-699b-465f-a840-2581a97985ce",
        "colab": {
          "base_uri": "https://localhost:8080/",
          "height": 127
        }
      },
      "source": [
        "from google.colab import drive\n",
        "drive.mount('/content/drive')"
      ],
      "execution_count": 0,
      "outputs": [
        {
          "output_type": "stream",
          "text": [
            "Go to this URL in a browser: https://accounts.google.com/o/oauth2/auth?client_id=947318989803-6bn6qk8qdgf4n4g3pfee6491hc0brc4i.apps.googleusercontent.com&redirect_uri=urn%3aietf%3awg%3aoauth%3a2.0%3aoob&response_type=code&scope=email%20https%3a%2f%2fwww.googleapis.com%2fauth%2fdocs.test%20https%3a%2f%2fwww.googleapis.com%2fauth%2fdrive%20https%3a%2f%2fwww.googleapis.com%2fauth%2fdrive.photos.readonly%20https%3a%2f%2fwww.googleapis.com%2fauth%2fpeopleapi.readonly\n",
            "\n",
            "Enter your authorization code:\n",
            "··········\n",
            "Mounted at /content/drive\n"
          ],
          "name": "stdout"
        }
      ]
    },
    {
      "cell_type": "code",
      "metadata": {
        "id": "w4KRY8rrXAqV",
        "colab_type": "code",
        "outputId": "01741465-a19f-4dc4-a29a-d9260660eed8",
        "colab": {
          "base_uri": "https://localhost:8080/",
          "height": 107
        }
      },
      "source": [
        " %tensorflow_version 2.x\n",
        "\n",
        "import tensorflow as tf\n",
        "\n",
        "import IPython.display as display\n",
        "from PIL import Image\n",
        "import numpy as np\n",
        "import matplotlib.pyplot as plt\n",
        "import os\n",
        "import pathlib\n",
        "print(\"Module Loaded.\")\n",
        "print(\"TensorFlow Version :{}\".format(tf.__version__))\n",
        "print(\"NumPy Version :{}\".format(np.__version__))\n",
        "print(\"Matplotlib Version :{}\".format(plt.matplotlib.__version__))\n",
        "\n",
        "# set auto tune\n",
        "AUTOTUNE = tf.data.experimental.AUTOTUNE"
      ],
      "execution_count": 0,
      "outputs": [
        {
          "output_type": "stream",
          "text": [
            "TensorFlow 2.x selected.\n",
            "Module Loaded.\n",
            "TensorFlow Version :2.1.0-rc1\n",
            "NumPy Version :1.17.4\n",
            "Matplotlib Version :3.1.2\n"
          ],
          "name": "stdout"
        }
      ]
    },
    {
      "cell_type": "code",
      "metadata": {
        "id": "nKPr4corXLVo",
        "colab_type": "code",
        "colab": {}
      },
      "source": [
        "# tf.keras.preprocessing.image.ImageDataGenerator()\n",
        "## 가 생성한 결과의 일부를 확인\n",
        "def show_batch(data_gen, class_l):\n",
        "  # get image and label from data generator\n",
        "    img_batch, l_batch = next(data_gen) \n",
        "    plt.figure(figsize=(10,10))\n",
        "    for n in range(25):\n",
        "        ax = plt.subplot(5,5,n+1)\n",
        "        plt.imshow(img_batch[n])\n",
        "        plt.title(class_l[l_batch[n]==1][0].title())\n",
        "        plt.axis('off')\n",
        "    return img_batch, l_batch"
      ],
      "execution_count": 0,
      "outputs": []
    },
    {
      "cell_type": "code",
      "metadata": {
        "id": "QeFvqOYWXNUd",
        "colab_type": "code",
        "colab": {}
      },
      "source": [
        "# 지정 폴더 아래에 있는 모든 *.jpg 파일의 수\n",
        "#  및 폴더명 목록을 리턴  \n",
        "def check_dir(d_path):\n",
        "    img_count = len(list(d_path.glob('*/*.jpg')))\n",
        "    c_name = np.array([item.name for item in d_path.glob('*') if item.name != \"LICENSE.txt\"])\n",
        "    return img_count, c_name"
      ],
      "execution_count": 0,
      "outputs": []
    },
    {
      "cell_type": "code",
      "metadata": {
        "id": "7kb_64uhXPMy",
        "colab_type": "code",
        "colab": {}
      },
      "source": [
        "# 지정 path 아래에 있는 폴더에서 이미지 두장씩을 확인\n",
        "def check_image(d_path, class_list):\n",
        "    for i in range(len(class_list)):\n",
        "        class_temp = list(d_path.glob(str(class_list[i])+'/*'))\n",
        "        for image_path in class_temp[:2]:\n",
        "            display.display(Image.open(str(image_path)))"
      ],
      "execution_count": 0,
      "outputs": []
    },
    {
      "cell_type": "code",
      "metadata": {
        "id": "mNV5I9BAXQmC",
        "colab_type": "code",
        "colab": {}
      },
      "source": [
        "# image data generator로 부터 image를 받아서 출력 \n",
        "def k_image_process(dg, imgs):\n",
        "  # batch_size 만큼씩 처리하도록 준비\n",
        "    it = dg.flow(imgs, batch_size=1)\n",
        "    plt.figure(figsize=(12,9))\n",
        "    # generate samples and plot\n",
        "    for i in range(9):\n",
        "        # define subplot\n",
        "        plt.subplot(330 + 1 + i)\n",
        "        #batch_size씩 가져옴\n",
        "        batch = it.next() \n",
        "        # plt을 위해 type 변경 \n",
        "        image = batch[0].astype('uint8')\n",
        "        # plot raw pixel data\n",
        "        plt.imshow(image)\n",
        "  # show the figure\n",
        "    plt.show()"
      ],
      "execution_count": 0,
      "outputs": []
    },
    {
      "cell_type": "markdown",
      "metadata": {
        "id": "Q6MmBW-tDwiK",
        "colab_type": "text"
      },
      "source": [
        "# 실패한 data loading"
      ]
    },
    {
      "cell_type": "code",
      "metadata": {
        "id": "N4uxgLciXSX5",
        "colab_type": "code",
        "outputId": "6eba7a5c-31a6-4745-f8bb-baa580520e71",
        "colab": {
          "base_uri": "https://localhost:8080/",
          "height": 53
        }
      },
      "source": [
        "data_dir_train = pathlib.Path('/content/drive/My Drive/tf2/z_data/asirra/train')\n",
        "data_dir_test = pathlib.Path('/content/drive/My Drive/tf2/z_data/asirra/test')\n",
        "\n",
        "image_count_gd, CLASS_NAMES_gd = check_dir(data_dir_train)\n",
        "# image generator for unziped directory \n",
        "# The 1./255 is to convert from uint8 to float32 in range [0,1].\n",
        "image_generator_train = tf.keras.preprocessing.image.ImageDataGenerator(rescale=1./255)#,\n",
        "#                                                                        shear_range=0.2,\n",
        " #                                                                       zoom_range=0.2,\n",
        "   #                                                                     horizontal_flip=True)\n",
        "image_generator_test=tf.keras.preprocessing.image.ImageDataGenerator(rescale=1./255)\n",
        "\n",
        "# generate train dataset\n",
        "train_data_gen_gd = image_generator_train.flow_from_directory(\n",
        "                    directory=str(data_dir_train),\n",
        "                    batch_size=250,\n",
        "                    shuffle=True,\n",
        "                    target_size=(128, 128),\n",
        "                    class_mode='categorical',\n",
        "                    classes = list(CLASS_NAMES_gd))\n",
        "test_data_gen_gd=image_generator_test.flow_from_directory(\n",
        "                    directory=str(data_dir_test),\n",
        "                    batch_size=30,\n",
        "                    target_size=(128, 128),\n",
        "                    class_mode='categorical',\n",
        "                    classes = list(CLASS_NAMES_gd))\n",
        "# check dataset\n",
        "#show_batch(test_data_gen_gd, CLASS_NAMES_gd)"
      ],
      "execution_count": 0,
      "outputs": [
        {
          "output_type": "stream",
          "text": [
            "Found 12510 images belonging to 2 classes.\n",
            "Found 12520 images belonging to 2 classes.\n"
          ],
          "name": "stdout"
        }
      ]
    },
    {
      "cell_type": "code",
      "metadata": {
        "id": "hpFRdilJ9vpa",
        "colab_type": "code",
        "outputId": "ef3a5a79-2416-4fd4-b56b-054ecd879b73",
        "colab": {
          "base_uri": "https://localhost:8080/",
          "height": 53
        }
      },
      "source": [
        "%%time\n",
        "train_data,train_y=train_data_gen_gd.next()"
      ],
      "execution_count": 0,
      "outputs": [
        {
          "output_type": "stream",
          "text": [
            "CPU times: user 773 ms, sys: 71.6 ms, total: 845 ms\n",
            "Wall time: 43.3 s\n"
          ],
          "name": "stdout"
        }
      ]
    },
    {
      "cell_type": "markdown",
      "metadata": {
        "id": "VkxdFOz6ET2f",
        "colab_type": "text"
      },
      "source": [
        "# data loading"
      ]
    },
    {
      "cell_type": "code",
      "metadata": {
        "id": "0HI_DwGjEckc",
        "colab_type": "code",
        "outputId": "f5291eb0-73f7-4d86-c300-9481eb56234a",
        "colab": {
          "base_uri": "https://localhost:8080/",
          "height": 35
        }
      },
      "source": [
        "cwd = os.getcwd()\n",
        "cwd"
      ],
      "execution_count": 0,
      "outputs": [
        {
          "output_type": "execute_result",
          "data": {
            "text/plain": [
              "'/content'"
            ]
          },
          "metadata": {
            "tags": []
          },
          "execution_count": 10
        }
      ]
    },
    {
      "cell_type": "code",
      "metadata": {
        "id": "uXciqx1LFhdT",
        "colab_type": "code",
        "colab": {}
      },
      "source": [
        "!unzip /content/drive/My\\ Drive/tf2/z_data/asirra_fixed.zip"
      ],
      "execution_count": 0,
      "outputs": []
    },
    {
      "cell_type": "code",
      "metadata": {
        "id": "gjCPb8Y6HcXl",
        "colab_type": "code",
        "colab": {}
      },
      "source": [
        "!ls -al asirra/test"
      ],
      "execution_count": 0,
      "outputs": []
    },
    {
      "cell_type": "code",
      "metadata": {
        "id": "y8tT6rA2H9j3",
        "colab_type": "code",
        "colab": {}
      },
      "source": [
        "import pathlib\n",
        "train_data_dir_cwd=pathlib.Path('/content/asirra/train')\n",
        "test_data_dir_cwd=pathlib.Path('/content/asirra/test')"
      ],
      "execution_count": 0,
      "outputs": []
    },
    {
      "cell_type": "code",
      "metadata": {
        "id": "0C3o8kkQLwCd",
        "colab_type": "code",
        "colab": {}
      },
      "source": [
        "image_count_cwd, CLASS_NAMES_cwd = check_dir(train_data_dir_cwd)\n",
        "test_image_count_cwd, CLASS_NAMES_cwd = check_dir(test_data_dir_cwd)\n",
        "print('image_count: {}\\nclasses: {}'.format(image_count_cwd, CLASS_NAMES_cwd))\n",
        "print('image_count: {}\\nclasses: {}'.format(test_image_count_cwd, CLASS_NAMES_cwd))"
      ],
      "execution_count": 0,
      "outputs": []
    },
    {
      "cell_type": "code",
      "metadata": {
        "id": "IALu4USzsdQe",
        "colab_type": "code",
        "colab": {}
      },
      "source": [
        "check_image(train_data_dir_cwd, CLASS_NAMES_cwd)"
      ],
      "execution_count": 0,
      "outputs": []
    },
    {
      "cell_type": "code",
      "metadata": {
        "id": "t3Wm73sQs3bf",
        "colab_type": "code",
        "colab": {}
      },
      "source": [
        "# image generator 생성\n",
        "# 1./255 : convert in range [0,1]\n",
        "image_generator_cwd = (\n",
        "    tf.keras.preprocessing.image.ImageDataGenerator(rescale=1./255))"
      ],
      "execution_count": 0,
      "outputs": []
    },
    {
      "cell_type": "code",
      "metadata": {
        "id": "v9Ucss1Ssphd",
        "colab_type": "code",
        "colab": {}
      },
      "source": [
        "train_data_gen_gd = image_generator_cwd.flow_from_directory(\n",
        "                        directory=str(train_data_dir_cwd),\n",
        "                        batch_size=512,\n",
        "                        shuffle=True,\n",
        "                        target_size=(112, 112),\n",
        "                        classes = list(CLASS_NAMES_cwd))\n",
        "test_data_gen_gd  = image_generator_cwd.flow_from_directory(\n",
        "                        directory=str(test_data_dir_cwd),\n",
        "                        batch_size=512,\n",
        "                        shuffle=True,\n",
        "                        target_size=(112, 112),\n",
        "                        classes = list(CLASS_NAMES_cwd))"
      ],
      "execution_count": 0,
      "outputs": []
    },
    {
      "cell_type": "code",
      "metadata": {
        "id": "TkIuSVNhszw8",
        "colab_type": "code",
        "colab": {}
      },
      "source": [
        "show_batch(train_data_gen_gd, CLASS_NAMES_cwd)"
      ],
      "execution_count": 0,
      "outputs": []
    },
    {
      "cell_type": "markdown",
      "metadata": {
        "id": "lst6nIUCD_Pf",
        "colab_type": "text"
      },
      "source": [
        "# 모델정의"
      ]
    },
    {
      "cell_type": "code",
      "metadata": {
        "id": "VMRcImqiXUhn",
        "colab_type": "code",
        "colab": {}
      },
      "source": [
        "row,col,pixel=test_data_gen_gd.image_shape\n",
        "num_classes = test_data_gen_gd.num_classes\n",
        "input_shape=test_data_gen_gd.image_shape\n"
      ],
      "execution_count": 0,
      "outputs": []
    },
    {
      "cell_type": "code",
      "metadata": {
        "id": "q0vKS5uxXV4R",
        "colab_type": "code",
        "colab": {}
      },
      "source": [
        "import tensorflow.keras.layers as layers\n",
        "from tensorflow.keras import models\n",
        "def model_function():\n",
        "    input_= layers.Input(shape=(input_shape))                   # (28,28,1)\n",
        "    x=layers.Conv2D(64,3,padding='same',activation='relu',name='conv32')(input_)\n",
        "    x=layers.MaxPool2D(pool_size=(2,2),strides=(2,2))(x)\n",
        "    x=layers.Conv2D(32,3,padding='same',activation='relu',name='conv32_2')(x)\n",
        "    x=layers.MaxPool2D(pool_size=(2,2),strides=(2,2))(x)\n",
        "    x=layers.Conv2D(16,3,padding='same',activation='relu',name='conv32_3')(x)\n",
        "    x=layers.Flatten()(x)\n",
        "    prediction = layers.Dense(num_classes,activation='softmax')(x) # (?,10)<-(?,30)\n",
        "    # return model\n",
        "    return models.Model(input_, prediction)"
      ],
      "execution_count": 0,
      "outputs": []
    },
    {
      "cell_type": "code",
      "metadata": {
        "id": "D-VLtcnmXXOt",
        "colab_type": "code",
        "outputId": "efc4f36e-fad3-4c75-ee04-1de0b97d8461",
        "colab": {
          "base_uri": "https://localhost:8080/",
          "height": 449
        }
      },
      "source": [
        "model = model_function()\n",
        "\n",
        "\n",
        "model.compile(loss='binary_crossentropy',\n",
        "              optimizer='rmsprop',\n",
        "              metrics=['accuracy'])\n",
        "\n",
        "model.summary()\n"
      ],
      "execution_count": 40,
      "outputs": [
        {
          "output_type": "stream",
          "text": [
            "Model: \"model_2\"\n",
            "_________________________________________________________________\n",
            "Layer (type)                 Output Shape              Param #   \n",
            "=================================================================\n",
            "input_3 (InputLayer)         [(None, 112, 112, 3)]     0         \n",
            "_________________________________________________________________\n",
            "conv32 (Conv2D)              (None, 112, 112, 64)      1792      \n",
            "_________________________________________________________________\n",
            "max_pooling2d_4 (MaxPooling2 (None, 56, 56, 64)        0         \n",
            "_________________________________________________________________\n",
            "conv32_2 (Conv2D)            (None, 56, 56, 32)        18464     \n",
            "_________________________________________________________________\n",
            "max_pooling2d_5 (MaxPooling2 (None, 28, 28, 32)        0         \n",
            "_________________________________________________________________\n",
            "conv32_3 (Conv2D)            (None, 28, 28, 16)        4624      \n",
            "_________________________________________________________________\n",
            "flatten_2 (Flatten)          (None, 12544)             0         \n",
            "_________________________________________________________________\n",
            "dense_2 (Dense)              (None, 2)                 25090     \n",
            "=================================================================\n",
            "Total params: 49,970\n",
            "Trainable params: 49,970\n",
            "Non-trainable params: 0\n",
            "_________________________________________________________________\n"
          ],
          "name": "stdout"
        }
      ]
    },
    {
      "cell_type": "code",
      "metadata": {
        "id": "nKNbX4HV6uGv",
        "colab_type": "code",
        "colab": {}
      },
      "source": [
        ""
      ],
      "execution_count": 0,
      "outputs": []
    },
    {
      "cell_type": "code",
      "metadata": {
        "id": "9eGb_cMCylaB",
        "colab_type": "code",
        "outputId": "c973908e-4ec2-4855-e392-b7402f72bfc5",
        "colab": {
          "base_uri": "https://localhost:8080/",
          "height": 53
        }
      },
      "source": [
        "%%time\n",
        "train_data,train_y=train_data_gen_gd.next()"
      ],
      "execution_count": 0,
      "outputs": [
        {
          "output_type": "stream",
          "text": [
            "CPU times: user 948 ms, sys: 94.4 ms, total: 1.04 s\n",
            "Wall time: 1.04 s\n"
          ],
          "name": "stdout"
        }
      ]
    },
    {
      "cell_type": "markdown",
      "metadata": {
        "id": "UsrWblhlEHjK",
        "colab_type": "text"
      },
      "source": [
        "# 학습"
      ]
    },
    {
      "cell_type": "code",
      "metadata": {
        "id": "0SIPTNSmXYxK",
        "colab_type": "code",
        "outputId": "deff3731-3b00-44e3-c58f-4729100437eb",
        "colab": {
          "base_uri": "https://localhost:8080/",
          "height": 431
        }
      },
      "source": [
        "%%time\n",
        "history=model.fit(train_data_gen_gd,epochs=6,steps_per_epoch=10,validation_data=test_data_gen_gd)"
      ],
      "execution_count": 0,
      "outputs": [
        {
          "output_type": "stream",
          "text": [
            "WARNING:tensorflow:sample_weight modes were coerced from\n",
            "  ...\n",
            "    to  \n",
            "  ['...']\n",
            "WARNING:tensorflow:sample_weight modes were coerced from\n",
            "  ...\n",
            "    to  \n",
            "  ['...']\n",
            "Train for 10 steps, validate for 25 steps\n",
            "Epoch 1/6\n",
            "10/10 [==============================] - 131s 13s/step - loss: 0.6658 - accuracy: 0.6055 - val_loss: 0.6596 - val_accuracy: 0.5949\n",
            "Epoch 2/6\n",
            "10/10 [==============================] - 131s 13s/step - loss: 0.6229 - accuracy: 0.6420 - val_loss: 0.6113 - val_accuracy: 0.6578\n",
            "Epoch 3/6\n",
            "10/10 [==============================] - 130s 13s/step - loss: 0.6976 - accuracy: 0.6031 - val_loss: 0.6428 - val_accuracy: 0.6397\n",
            "Epoch 4/6\n",
            "10/10 [==============================] - 132s 13s/step - loss: 0.6013 - accuracy: 0.6854 - val_loss: 0.5995 - val_accuracy: 0.6811\n",
            "Epoch 5/6\n",
            "10/10 [==============================] - 131s 13s/step - loss: 0.5999 - accuracy: 0.6578 - val_loss: 0.5860 - val_accuracy: 0.6958\n",
            "Epoch 6/6\n",
            "10/10 [==============================] - 131s 13s/step - loss: 0.6118 - accuracy: 0.6602 - val_loss: 0.6010 - val_accuracy: 0.6719\n",
            "CPU times: user 45min 23s, sys: 38.1 s, total: 46min 2s\n",
            "Wall time: 13min 8s\n"
          ],
          "name": "stdout"
        }
      ]
    },
    {
      "cell_type": "markdown",
      "metadata": {
        "id": "9BWcaJJGEKnS",
        "colab_type": "text"
      },
      "source": [
        "# 평가"
      ]
    },
    {
      "cell_type": "code",
      "metadata": {
        "id": "YfviqVcoXaTQ",
        "colab_type": "code",
        "colab": {}
      },
      "source": [
        "loss = history.history['loss']\n",
        "epochs = range(1, len(loss)+1)\n",
        "\n",
        "plt.figure(figsize=(6, 10))\n",
        "plt.subplot(2, 1, 1)\n",
        "plt.title('Accuray')\n",
        "plt.plot(epochs, history.history['accuracy'], 'b', label='train_accuracy')\n",
        "plt.plot(epochs, history.history['val_accuracy'], 'g', label='val_accuracy')\n",
        "\n",
        "plt.grid(True)\n",
        "plt.ylabel('Accuracy')\n",
        "plt.ylim([0.5, 0.8])\n",
        "plt.legend(loc='best')\n",
        "\n",
        "plt.subplot(2, 1, 2)\n",
        "plt.title('Loss')\n",
        "plt.plot(epochs, history.history['loss'], 'b', label='train_loss')\n",
        "plt.plot(epochs, history.history['val_loss'], 'g', label='val_loss')\n",
        "plt.grid(True)\n",
        "plt.xlabel('Epoch')\n",
        "plt.ylabel('Loss')\n",
        "plt.ylim([0.0, 0.9])\n",
        "plt.legend(loc='best')\n",
        "plt.show()"
      ],
      "execution_count": 0,
      "outputs": []
    },
    {
      "cell_type": "code",
      "metadata": {
        "id": "qkNqMYzWBf_4",
        "colab_type": "code",
        "colab": {}
      },
      "source": [
        "img=tf.keras.preprocessing.image.load_img('/content/asirra/train/cat/cat.4338.jpg')"
      ],
      "execution_count": 0,
      "outputs": []
    },
    {
      "cell_type": "code",
      "metadata": {
        "id": "kBOgY5QLDlyQ",
        "colab_type": "code",
        "colab": {
          "base_uri": "https://localhost:8080/",
          "height": 35
        },
        "outputId": "e2627faf-9ba6-4952-902d-2ea737cb1f08"
      },
      "source": [
        "tf.keras.preprocessing.image.img_to_array(img)"
      ],
      "execution_count": 39,
      "outputs": [
        {
          "output_type": "execute_result",
          "data": {
            "text/plain": [
              "(<module 'numpy' from '/usr/local/lib/python3.6/dist-packages/numpy/__init__.py'>,)"
            ]
          },
          "metadata": {
            "tags": []
          },
          "execution_count": 39
        }
      ]
    },
    {
      "cell_type": "markdown",
      "metadata": {
        "id": "P6hBY6HGENd5",
        "colab_type": "text"
      },
      "source": [
        "# 저장"
      ]
    },
    {
      "cell_type": "code",
      "metadata": {
        "id": "6w7HvkEqxr3f",
        "colab_type": "code",
        "colab": {}
      },
      "source": [
        "model.save('my_model.hdf5')\n",
        "# delete\n",
        "del model"
      ],
      "execution_count": 0,
      "outputs": []
    },
    {
      "cell_type": "code",
      "metadata": {
        "id": "mbjpasRTVmcg",
        "colab_type": "code",
        "outputId": "5fae2ad9-e337-441c-aa52-9d22370b31c7",
        "colab": {
          "base_uri": "https://localhost:8080/"
        }
      },
      "source": [
        "from tensorflow.keras.models import load_model\n",
        "model=load_model('my_model.hdf5')\n"
      ],
      "execution_count": 0,
      "outputs": [
        {
          "output_type": "execute_result",
          "data": {
            "text/plain": [
              "{'accuracy': [0.5980815],\n",
              " 'loss': [0.6746060273630156],\n",
              " 'val_accuracy': [0.67],\n",
              " 'val_loss': [0.5963890075683593]}"
            ]
          },
          "metadata": {
            "tags": []
          },
          "execution_count": 38
        }
      ]
    },
    {
      "cell_type": "markdown",
      "metadata": {
        "id": "zursvUWFEPJm",
        "colab_type": "text"
      },
      "source": [
        ""
      ]
    },
    {
      "cell_type": "code",
      "metadata": {
        "id": "Xmb65G4wr9Pp",
        "colab_type": "code",
        "colab": {}
      },
      "source": [
        ""
      ],
      "execution_count": 0,
      "outputs": []
    }
  ]
}