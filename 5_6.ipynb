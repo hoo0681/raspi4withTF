{
  "nbformat": 4,
  "nbformat_minor": 0,
  "metadata": {
    "colab": {
      "name": "5_6.ipynb",
      "provenance": [],
      "toc_visible": true,
      "machine_shape": "hm",
      "authorship_tag": "ABX9TyNvAGqmiqLHp9wgNCNEt2cD",
      "include_colab_link": true
    },
    "kernelspec": {
      "name": "python3",
      "display_name": "Python 3"
    }
  },
  "cells": [
    {
      "cell_type": "markdown",
      "metadata": {
        "id": "view-in-github",
        "colab_type": "text"
      },
      "source": [
        "<a href=\"https://colab.research.google.com/github/hoo0681/raspi4withTF/blob/master/5_6.ipynb\" target=\"_parent\"><img src=\"https://colab.research.google.com/assets/colab-badge.svg\" alt=\"Open In Colab\"/></a>"
      ]
    },
    {
      "cell_type": "code",
      "metadata": {
        "id": "tMp-x2MDu1R5",
        "colab_type": "code",
        "colab": {
          "base_uri": "https://localhost:8080/",
          "height": 35
        },
        "outputId": "7193dc0e-3607-4dc6-ceb5-b74c51e7535b"
      },
      "source": [
        "from google.colab import drive\n",
        "drive.mount('/content/drive')"
      ],
      "execution_count": 1,
      "outputs": [
        {
          "output_type": "stream",
          "text": [
            "Drive already mounted at /content/drive; to attempt to forcibly remount, call drive.mount(\"/content/drive\", force_remount=True).\n"
          ],
          "name": "stdout"
        }
      ]
    },
    {
      "cell_type": "code",
      "metadata": {
        "id": "i4Rjdz-bvEDm",
        "colab_type": "code",
        "colab": {
          "base_uri": "https://localhost:8080/",
          "height": 107
        },
        "outputId": "79447b9c-deca-4dd6-9d5f-e2696eab2abe"
      },
      "source": [
        " %tensorflow_version 2.x\n",
        "\n",
        "import tensorflow as tf\n",
        "\n",
        "import IPython.display as display\n",
        "from PIL import Image\n",
        "import numpy as np\n",
        "import matplotlib.pyplot as plt\n",
        "import os\n",
        "import pathlib\n",
        "print(\"Module Loaded.\")\n",
        "print(\"TensorFlow Version :{}\".format(tf.__version__))\n",
        "print(\"NumPy Version :{}\".format(np.__version__))\n",
        "print(\"Matplotlib Version :{}\".format(plt.matplotlib.__version__))\n",
        "\n",
        "# set auto tune\n",
        "AUTOTUNE = tf.data.experimental.AUTOTUNE"
      ],
      "execution_count": 3,
      "outputs": [
        {
          "output_type": "stream",
          "text": [
            "TensorFlow 2.x selected.\n",
            "Module Loaded.\n",
            "TensorFlow Version :2.1.0-rc1\n",
            "NumPy Version :1.17.5\n",
            "Matplotlib Version :3.1.2\n"
          ],
          "name": "stdout"
        }
      ]
    },
    {
      "cell_type": "code",
      "metadata": {
        "id": "oEUYaDimvFYj",
        "colab_type": "code",
        "colab": {}
      },
      "source": [
        "# 지정 폴더 아래에 있는 모든 *.jpg 파일의 수\n",
        "#  및 폴더명 목록을 리턴  \n",
        "def check_dir(d_path):\n",
        "    img_count = len(list(d_path.glob('*/*.jpg')))\n",
        "    c_name = np.array([item.name for item in d_path.glob('*') if item.name != \"LICENSE.txt\"])\n",
        "    return img_count, c_name"
      ],
      "execution_count": 0,
      "outputs": []
    },
    {
      "cell_type": "code",
      "metadata": {
        "id": "UMQqVh1dxBJw",
        "colab_type": "code",
        "colab": {
          "base_uri": "https://localhost:8080/",
          "height": 53
        },
        "outputId": "afeab830-3ff2-4460-cb37-0973a03a7202"
      },
      "source": [
        "!unzip /content/drive/My\\ Drive/tf2/z_data/asirra_fixed.zip"
      ],
      "execution_count": 5,
      "outputs": [
        {
          "output_type": "stream",
          "text": [
            "Archive:  /content/drive/My Drive/tf2/z_data/asirra_fixed.zip\n",
            "replace asirra/test/cat/cat.10.jpg? [y]es, [n]o, [A]ll, [N]one, [r]ename: "
          ],
          "name": "stdout"
        }
      ]
    },
    {
      "cell_type": "code",
      "metadata": {
        "id": "7X5i-5PGxBuf",
        "colab_type": "code",
        "colab": {}
      },
      "source": [
        "import pathlib\n",
        "train_data_dir_cwd=pathlib.Path('/content/asirra/train')\n",
        "test_data_dir_cwd=pathlib.Path('/content/asirra/test')"
      ],
      "execution_count": 0,
      "outputs": []
    },
    {
      "cell_type": "code",
      "metadata": {
        "id": "fxjnlQPTxEBB",
        "colab_type": "code",
        "colab": {
          "base_uri": "https://localhost:8080/",
          "height": 89
        },
        "outputId": "baa31153-fd20-48ca-ba6c-609b48299757"
      },
      "source": [
        "image_count_cwd, CLASS_NAMES_cwd = check_dir(train_data_dir_cwd)\n",
        "test_image_count_cwd, CLASS_NAMES_cwd = check_dir(test_data_dir_cwd)\n",
        "print('image_count: {}\\nclasses: {}'.format(image_count_cwd, CLASS_NAMES_cwd))\n",
        "print('image_count: {}\\nclasses: {}'.format(test_image_count_cwd, CLASS_NAMES_cwd))"
      ],
      "execution_count": 7,
      "outputs": [
        {
          "output_type": "stream",
          "text": [
            "image_count: 12500\n",
            "classes: ['dog' 'cat']\n",
            "image_count: 12500\n",
            "classes: ['dog' 'cat']\n"
          ],
          "name": "stdout"
        }
      ]
    },
    {
      "cell_type": "markdown",
      "metadata": {
        "id": "5AMw2fjk_6af",
        "colab_type": "text"
      },
      "source": [
        "# 변형X 데이터"
      ]
    },
    {
      "cell_type": "code",
      "metadata": {
        "id": "CRIRJ3WpxOOb",
        "colab_type": "code",
        "colab": {
          "base_uri": "https://localhost:8080/",
          "height": 53
        },
        "outputId": "d7396c2b-91b8-4825-e652-8413a519d7c2"
      },
      "source": [
        "datagen_2=tf.keras.preprocessing.image.ImageDataGenerator(rescale=1./255)\n",
        "generator_2=datagen_2.flow_from_directory(\n",
        "    directory=str(train_data_dir_cwd),\n",
        "    batch_size=12500,\n",
        "    shuffle=True,\n",
        "    target_size=(150, 150)\n",
        ")\n",
        "generator_2_test=datagen_2.flow_from_directory(\n",
        "    directory=str(test_data_dir_cwd),\n",
        "    batch_size=125,\n",
        "    shuffle=True,\n",
        "    target_size=(150, 150)\n",
        ")\n"
      ],
      "execution_count": 20,
      "outputs": [
        {
          "output_type": "stream",
          "text": [
            "Found 12500 images belonging to 2 classes.\n",
            "Found 12500 images belonging to 2 classes.\n"
          ],
          "name": "stdout"
        }
      ]
    },
    {
      "cell_type": "markdown",
      "metadata": {
        "id": "J9ElEvLvADpE",
        "colab_type": "text"
      },
      "source": [
        "# 변형데이터"
      ]
    },
    {
      "cell_type": "code",
      "metadata": {
        "id": "-IbTU9RoAgMV",
        "colab_type": "code",
        "colab": {}
      },
      "source": [
        "train_x=np.load(file='/content/drive/My Drive/train_data_150_img.npy',allow_pickle=True)\n",
        "train_y=np.load(file='/content/drive/My Drive/train_data_150_label.npy',allow_pickle=True)"
      ],
      "execution_count": 0,
      "outputs": []
    },
    {
      "cell_type": "code",
      "metadata": {
        "id": "8yslVbTwAlJZ",
        "colab_type": "code",
        "colab": {}
      },
      "source": [
        "#width_shift_range=0.3,height_shift_range=0.3,horizontal_flip=True,vertical_flip=True,rotation_range=45,zoom_range=0.2\n",
        "gen_arg=tf.keras.preprocessing.image.ImageDataGenerator(width_shift_range=0.3,height_shift_range=0.3)\n",
        "arg_train=gen_arg.flow(x=train_x,y=train_y,batch_size=12500,shuffle=True)"
      ],
      "execution_count": 0,
      "outputs": []
    },
    {
      "cell_type": "markdown",
      "metadata": {
        "id": "uLHIFTmrCWOa",
        "colab_type": "text"
      },
      "source": [
        "# 병목만들기\n"
      ]
    },
    {
      "cell_type": "code",
      "metadata": {
        "id": "HaZc_IdixQiV",
        "colab_type": "code",
        "colab": {}
      },
      "source": [
        "vgg_model_2=tf.keras.applications.VGG16(include_top=False,weights='imagenet',input_tensor=tf.keras.layers.Input(shape=(150,150,3)))\n"
      ],
      "execution_count": 0,
      "outputs": []
    },
    {
      "cell_type": "code",
      "metadata": {
        "id": "L-iv9fjn4sG4",
        "colab_type": "code",
        "colab": {
          "base_uri": "https://localhost:8080/",
          "height": 53
        },
        "outputId": "1c39bf70-c88f-4057-c9a5-49d6a88ae597"
      },
      "source": [
        "#변형없음\n",
        "%%time\n",
        "img,label=generator _2.next()\n",
        "bottleneck_test=vgg_model_2.predict(img)"
      ],
      "execution_count": 10,
      "outputs": [
        {
          "output_type": "stream",
          "text": [
            "CPU times: user 1h 28min 52s, sys: 17.4 s, total: 1h 29min 10s\n",
            "Wall time: 23min 9s\n"
          ],
          "name": "stdout"
        }
      ]
    },
    {
      "cell_type": "code",
      "metadata": {
        "id": "qc3xj7peBNSX",
        "colab_type": "code",
        "colab": {}
      },
      "source": [
        "#변형있음\n",
        "%%time\n",
        "arg_img,arg_label=arg_train.ne \n",
        "\n",
        "xt()\n",
        "bottleneck_arg_train=vgg_model_2.predict(arg_img)"
      ],
      "execution_count": 0,
      "outputs": []
    },
    {
      "cell_type": "code",
      "metadata": {
        "id": "aQXuDmpg9ZsD",
        "colab_type": "code",
        "colab": {
          "base_uri": "https://localhost:8080/",
          "height": 35
        },
        "outputId": "a29d6c25-fced-443d-a5b6-64e254ca22dc"
      },
      "source": [
        ""
      ],
      "execution_count": 12,
      "outputs": [
        {
          "output_type": "execute_result",
          "data": {
            "text/plain": [
              "(512, 2)"
            ]
          },
          "metadata": {
            "tags": []
          },
          "execution_count": 12
        }
      ]
    },
    {
      "cell_type": "markdown",
      "metadata": {
        "id": "keKHQ0PfDr-2",
        "colab_type": "text"
      },
      "source": [
        "# 모델정의"
      ]
    },
    {
      "cell_type": "code",
      "metadata": {
        "id": "Uz7jZyoYx2mK",
        "colab_type": "code",
        "colab": {}
      },
      "source": [
        "model_bt = tf.keras.Sequential()\n",
        "model_bt.add(tf.keras.layers.Flatten())\n",
        "model_bt.add(tf.keras.layers.Dense(256, activation='relu'))\n",
        "model_bt.add(tf.keras.layers.Dropout(0.5))\n",
        "model_bt.add(tf.keras.layers.Dense(2, activation='softmax'))\n",
        "\n",
        "model_bt.compile(optimizer='adam',loss='binary_crossentropy', metrics=['accuracy'])"
      ],
      "execution_count": 0,
      "outputs": []
    },
    {
      "cell_type": "code",
      "metadata": {
        "id": "HfN2lkHyyPKY",
        "colab_type": "code",
        "colab": {
          "base_uri": "https://localhost:8080/",
          "height": 413
        },
        "outputId": "38075af4-f4f4-4eb6-b9ba-a2f1b59320c8"
      },
      "source": [
        "model_bt.fit(bottleneck_test, label,\n",
        "          epochs=10,\n",
        "          batch_size=512,\n",
        "          )"
      ],
      "execution_count": 12,
      "outputs": [
        {
          "output_type": "stream",
          "text": [
            "Train on 12500 samples\n",
            "Epoch 1/10\n",
            "12500/12500 [==============================] - 2s 161us/sample - loss: 0.7204 - accuracy: 0.7378\n",
            "Epoch 2/10\n",
            "12500/12500 [==============================] - 1s 107us/sample - loss: 0.3027 - accuracy: 0.8724\n",
            "Epoch 3/10\n",
            "12500/12500 [==============================] - 1s 106us/sample - loss: 0.2498 - accuracy: 0.8975\n",
            "Epoch 4/10\n",
            "12500/12500 [==============================] - 1s 106us/sample - loss: 0.2229 - accuracy: 0.9095\n",
            "Epoch 5/10\n",
            "12500/12500 [==============================] - 1s 107us/sample - loss: 0.2027 - accuracy: 0.9180\n",
            "Epoch 6/10\n",
            "12500/12500 [==============================] - 1s 107us/sample - loss: 0.1834 - accuracy: 0.9254\n",
            "Epoch 7/10\n",
            "12500/12500 [==============================] - 1s 107us/sample - loss: 0.1704 - accuracy: 0.9302\n",
            "Epoch 8/10\n",
            "12500/12500 [==============================] - 1s 106us/sample - loss: 0.1569 - accuracy: 0.9385\n",
            "Epoch 9/10\n",
            "12500/12500 [==============================] - 1s 106us/sample - loss: 0.1460 - accuracy: 0.9440\n",
            "Epoch 10/10\n",
            "12500/12500 [==============================] - 1s 106us/sample - loss: 0.1342 - accuracy: 0.9498\n"
          ],
          "name": "stdout"
        },
        {
          "output_type": "execute_result",
          "data": {
            "text/plain": [
              "<tensorflow.python.keras.callbacks.History at 0x7f24650611d0>"
            ]
          },
          "metadata": {
            "tags": []
          },
          "execution_count": 12
        }
      ]
    },
    {
      "cell_type": "code",
      "metadata": {
        "id": "W-nVc_YDEzeZ",
        "colab_type": "code",
        "colab": {}
      },
      "source": [
        "model_bt.save_weights('/content/save_weight')"
      ],
      "execution_count": 0,
      "outputs": []
    },
    {
      "cell_type": "markdown",
      "metadata": {
        "id": "HQiU737UFEWW",
        "colab_type": "text"
      },
      "source": [
        "# 평가"
      ]
    },
    {
      "cell_type": "code",
      "metadata": {
        "id": "7NgDQZ26GttX",
        "colab_type": "code",
        "colab": {}
      },
      "source": [
        "vgg_model_2=tf.keras.applications.VGG16(include_top=False,weights='imagenet',input_tensor=tf.keras.layers.Input(shape=(150,150,3)))\n",
        "\n",
        "existing_model = tf.keras.Sequential()\n",
        "existing_model.add(tf.keras.layers.Flatten())\n",
        "existing_model.add(tf.keras.layers.Dense(256, activation='relu'))\n",
        "existing_model.add(tf.keras.layers.Dropout(0.5))\n",
        "existing_model.add(tf.keras.layers.Dense(2, activation='softmax'))\n",
        "\n",
        "existing_model.build(vgg_model_2.output_shape)"
      ],
      "execution_count": 0,
      "outputs": []
    },
    {
      "cell_type": "code",
      "metadata": {
        "id": "oNYNMO6DFDe_",
        "colab_type": "code",
        "colab": {}
      },
      "source": [
        "\n",
        "existing_model(vgg_model_2.output)\n",
        "\n",
        "exvgg_model=tf.keras.Model(inputs=vgg_model_2.input,outputs=existing_model.output)\n",
        "\n"
      ],
      "execution_count": 0,
      "outputs": []
    },
    {
      "cell_type": "code",
      "metadata": {
        "id": "2txib9OgPD1M",
        "colab_type": "code",
        "colab": {}
      },
      "source": [
        "for layer in vgg_model_2.layers :\n",
        "  layer.trainable=False"
      ],
      "execution_count": 0,
      "outputs": []
    },
    {
      "cell_type": "code",
      "metadata": {
        "id": "KII18DR4FN0f",
        "colab_type": "code",
        "colab": {
          "base_uri": "https://localhost:8080/",
          "height": 35
        },
        "outputId": "6fd8e321-8959-4f92-8c64-5d04f7ff8db9"
      },
      "source": [
        "existing_model.load_weights('/content/save_weight')"
      ],
      "execution_count": 31,
      "outputs": [
        {
          "output_type": "execute_result",
          "data": {
            "text/plain": [
              "<tensorflow.python.training.tracking.util.CheckpointLoadStatus at 0x7f245e9a3c18>"
            ]
          },
          "metadata": {
            "tags": []
          },
          "execution_count": 31
        }
      ]
    },
    {
      "cell_type": "code",
      "metadata": {
        "id": "DJT0nd0rQ3TW",
        "colab_type": "code",
        "colab": {}
      },
      "source": [
        "exvgg_model.compile(optimizer='rmsprop',loss='binary_crossentropy', metrics=['accuracy'])"
      ],
      "execution_count": 0,
      "outputs": []
    },
    {
      "cell_type": "code",
      "metadata": {
        "id": "52GmI-F7rwcq",
        "colab_type": "code",
        "colab": {
          "base_uri": "https://localhost:8080/",
          "height": 881
        },
        "outputId": "93dd6a66-1875-4248-f06b-6e6262d33415"
      },
      "source": [
        "exvgg_model.summary()"
      ],
      "execution_count": 33,
      "outputs": [
        {
          "output_type": "stream",
          "text": [
            "Model: \"model\"\n",
            "_________________________________________________________________\n",
            "Layer (type)                 Output Shape              Param #   \n",
            "=================================================================\n",
            "input_2 (InputLayer)         [(None, 150, 150, 3)]     0         \n",
            "_________________________________________________________________\n",
            "block1_conv1 (Conv2D)        (None, 150, 150, 64)      1792      \n",
            "_________________________________________________________________\n",
            "block1_conv2 (Conv2D)        (None, 150, 150, 64)      36928     \n",
            "_________________________________________________________________\n",
            "block1_pool (MaxPooling2D)   (None, 75, 75, 64)        0         \n",
            "_________________________________________________________________\n",
            "block2_conv1 (Conv2D)        (None, 75, 75, 128)       73856     \n",
            "_________________________________________________________________\n",
            "block2_conv2 (Conv2D)        (None, 75, 75, 128)       147584    \n",
            "_________________________________________________________________\n",
            "block2_pool (MaxPooling2D)   (None, 37, 37, 128)       0         \n",
            "_________________________________________________________________\n",
            "block3_conv1 (Conv2D)        (None, 37, 37, 256)       295168    \n",
            "_________________________________________________________________\n",
            "block3_conv2 (Conv2D)        (None, 37, 37, 256)       590080    \n",
            "_________________________________________________________________\n",
            "block3_conv3 (Conv2D)        (None, 37, 37, 256)       590080    \n",
            "_________________________________________________________________\n",
            "block3_pool (MaxPooling2D)   (None, 18, 18, 256)       0         \n",
            "_________________________________________________________________\n",
            "block4_conv1 (Conv2D)        (None, 18, 18, 512)       1180160   \n",
            "_________________________________________________________________\n",
            "block4_conv2 (Conv2D)        (None, 18, 18, 512)       2359808   \n",
            "_________________________________________________________________\n",
            "block4_conv3 (Conv2D)        (None, 18, 18, 512)       2359808   \n",
            "_________________________________________________________________\n",
            "block4_pool (MaxPooling2D)   (None, 9, 9, 512)         0         \n",
            "_________________________________________________________________\n",
            "block5_conv1 (Conv2D)        (None, 9, 9, 512)         2359808   \n",
            "_________________________________________________________________\n",
            "block5_conv2 (Conv2D)        (None, 9, 9, 512)         2359808   \n",
            "_________________________________________________________________\n",
            "block5_conv3 (Conv2D)        (None, 9, 9, 512)         2359808   \n",
            "_________________________________________________________________\n",
            "block5_pool (MaxPooling2D)   (None, 4, 4, 512)         0         \n",
            "_________________________________________________________________\n",
            "sequential_1 (Sequential)    (None, 2)                 2097922   \n",
            "=================================================================\n",
            "Total params: 16,812,610\n",
            "Trainable params: 2,097,922\n",
            "Non-trainable params: 14,714,688\n",
            "_________________________________________________________________\n"
          ],
          "name": "stdout"
        }
      ]
    },
    {
      "cell_type": "code",
      "metadata": {
        "id": "3MVNZ1KjsHL0",
        "colab_type": "code",
        "colab": {}
      },
      "source": [
        "test_img,test_label=generator_2_test.next()"
      ],
      "execution_count": 0,
      "outputs": []
    },
    {
      "cell_type": "code",
      "metadata": {
        "id": "-TP7iWvfsNin",
        "colab_type": "code",
        "colab": {}
      },
      "source": [
        "batch_image = np.expand_dims(test_img[1], 0)"
      ],
      "execution_count": 0,
      "outputs": []
    },
    {
      "cell_type": "code",
      "metadata": {
        "id": "hrKhrZS4FpHZ",
        "colab_type": "code",
        "colab": {
          "base_uri": "https://localhost:8080/",
          "height": 35
        },
        "outputId": "8098d903-635a-4979-de21-bc87ae86415c"
      },
      "source": [
        "exvgg_model.predict(batch_image)"
      ],
      "execution_count": 36,
      "outputs": [
        {
          "output_type": "execute_result",
          "data": {
            "text/plain": [
              "array([[0.9918833 , 0.00811668]], dtype=float32)"
            ]
          },
          "metadata": {
            "tags": []
          },
          "execution_count": 36
        }
      ]
    },
    {
      "cell_type": "code",
      "metadata": {
        "id": "e7ECE3xzP567",
        "colab_type": "code",
        "colab": {
          "base_uri": "https://localhost:8080/",
          "height": 125
        },
        "outputId": "9760e47b-e5b7-41dd-dd7a-8f005fd2e39b"
      },
      "source": [
        "exvgg_model.evaluate(generator_2_test)"
      ],
      "execution_count": 37,
      "outputs": [
        {
          "output_type": "stream",
          "text": [
            "WARNING:tensorflow:sample_weight modes were coerced from\n",
            "  ...\n",
            "    to  \n",
            "  ['...']\n",
            "100/100 [==============================] - 1356s 14s/step - loss: 0.2175 - accuracy: 0.9109\n"
          ],
          "name": "stdout"
        },
        {
          "output_type": "execute_result",
          "data": {
            "text/plain": [
              "[0.2175437844544649, 0.91088]"
            ]
          },
          "metadata": {
            "tags": []
          },
          "execution_count": 37
        }
      ]
    },
    {
      "cell_type": "code",
      "metadata": {
        "id": "K5Wfe-sQs2j3",
        "colab_type": "code",
        "colab": {}
      },
      "source": [
        ""
      ],
      "execution_count": 0,
      "outputs": []
    }
  ]
}